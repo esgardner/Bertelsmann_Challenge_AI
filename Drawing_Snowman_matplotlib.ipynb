{
 "cells": [
  {
   "cell_type": "markdown",
   "metadata": {},
   "source": [
    "My first experience using matplotlib. I was inspired by some fellow classmates in the [Bertelsmann Technology Scholarship Program (AI Track)](https://www.udacity.com/bertelsmann-tech-scholarships) to try making a holiday graphic with Python. "
   ]
  },
  {
   "cell_type": "code",
   "execution_count": 238,
   "metadata": {},
   "outputs": [],
   "source": [
    "import matplotlib.pyplot as plt\n",
    "import matplotlib.patches as pt\n",
    "import numpy as np"
   ]
  },
  {
   "cell_type": "code",
   "execution_count": 254,
   "metadata": {},
   "outputs": [
    {
     "data": {
      "image/png": "[encoded data removed]",
      "text/plain": [
       "<Figure size 432x288 with 1 Axes>"
      ]
     },
     "metadata": {
      "needs_background": "light"
     },
     "output_type": "display_data"
    }
   ],
   "source": [
    "# add title\n",
    "plt.title('Happy Holidays!', fontsize=15, fontweight='bold')\n",
    "\n",
    "patches = []\n",
    "\n",
    "# plot the body of the snowman\n",
    "bottom = plt.Circle((0, -1), radius=0.85, fc='#FFFFFF', ec='#000000')\n",
    "patches.append(bottom)\n",
    "middle = plt.Circle((0, 0), radius=0.75, fc='#FFFFFF', ec='#000000')\n",
    "patches.append(middle)\n",
    "\n",
    "# add the head\n",
    "head = plt.Circle((0, .95), radius=0.5, fc='#FFFFFF', ec='#000000')\n",
    "patches.append(head)\n",
    "\n",
    "# add eyes\n",
    "eye = plt.Circle((-.2, 1.1), radius=0.07, color='#000000')\n",
    "patches.append(eye)\n",
    "eye = plt.Circle((.2, 1.1), radius=0.07, color='#000000')\n",
    "patches.append(eye)\n",
    "\n",
    "# and some buttons\n",
    "patches.append(plt.Circle((0, 0), radius=0.06, color='#000000'))\n",
    "patches.append(plt.Circle((0, -.3), radius=0.06, color='#000000'))\n",
    "\n",
    "# add nose\n",
    "plt.plot(0.05, .9, color='#FFA500', marker='>', markersize=12)\n",
    "\n",
    "# add his arms\n",
    "x1, y1 = [.76, 1.3], [0.2, .55]\n",
    "x2, y2 = [-.76, -1.3], [0.2, .55]\n",
    "plt.plot(x1, y1, x2, y2, color='#000000')\n",
    "\n",
    "# add a scarf\n",
    "x1, y1 = [-.53, -.44, -.23, 0, .23, .53], [0.48, .48, .45, .42, .45, 0.48]\n",
    "plt.plot(x1, y1, '#0B570B', linewidth=18.0)\n",
    "x1, y1 = [0.5, 0.5], [0.5, -.2]\n",
    "plt.plot(x1, y1, '#0B570B', linewidth=17.0)\n",
    "\n",
    "# and tassles for the scarf\n",
    "def draw_tassles(x, y):\n",
    "   plt.plot(x, y, '#0B570B', linewidth=1.0)\n",
    " \n",
    "for x in np.arange(0.36, 0.62, 0.06):\n",
    "    draw_tassles([x, x], [-0.3, -.45])\n",
    "    \n",
    "# draw a hat\n",
    "plt.plot([-0.5, 0.5], [1.3, 1.3], '#000000', linewidth=3.0)\n",
    "patches.append(pt.Rectangle((-.4, 1.3), .82, .5, facecolor='#000000'))\n",
    "\n",
    "# add the patches to the plot\n",
    "[plt.gca().add_patch(p) for p in patches]\n",
    "                  \n",
    "# scale the plot \n",
    "plt.axis('scaled')\n",
    "\n",
    "# display the drawing\n",
    "plt.show()"
   ]
  }
 ],
 "metadata": {
  "kernelspec": {
   "display_name": "Python 3",
   "language": "python",
   "name": "python3"
  },
  "language_info": {
   "codemirror_mode": {
    "name": "ipython",
    "version": 3
   },
   "file_extension": ".py",
   "mimetype": "text/x-python",
   "name": "python",
   "nbconvert_exporter": "python",
   "pygments_lexer": "ipython3",
   "version": "3.7.5"
  }
 },
 "nbformat": 4,
 "nbformat_minor": 2
}
